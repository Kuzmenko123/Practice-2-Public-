BodyPart0=(0.55, 0.17) 
score0=0.81
BodyPart1=(0.49, 0.27) 
score1=0.85 
BodyPart2=(0.41, 0.26)
score2=0.67
BodyPart3=(0.33, 0.37) 
score3=0.72 
BodyPart4=(0.36, 0.48) 
score4=0.78
BodyPart5=(0.58, 0.27) 
score5=0.81 
BodyPart6=(0.65, 0.38) 
score6=0.88 
BodyPart7=(0.62, 0.48) 
score7=0.86
BodyPart8=(0.43, 0.48) 
score8=0.60 
BodyPart9=(0.43, 0.66) 
score9=0.67
BodyPart10=(0.53, 0.79) 
score10=0.56 
BodyPart11=(0.53, 0.48) 
score11=0.56 
BodyPart12=(0.59, 0.66) 
score12=0.75 
BodyPart13=(0.49, 0.80) 
score13=0.50 
BodyPart14=(0.54, 0.15) 
score14=0.73 
BodyPart15=(0.56, 0.15) 
score15=0.85 
BodyPart16=(0.48, 0.16) 
score16=0.81 
BodyPart17=(0.83, 0.18) 
score17=0.79
print(BodyPart0 + BodyPart1 + BodyPart2 + BodyPart3 + BodyPart4 + BodyPart5 + BodyPart6 + BodyPart7 +
BodyPart8 + BodyPart9 + BodyPart10 + BodyPart11 + BodyPart12 + BodyPart13 + BodyPart14 + BodyPart15 + BodyPart16 + BodyPart17)
print(score0, + score1, + score2, + score3, + score4, + score5, + score6, + score7, +score8, + 
score9, + score10, + score11, + score12, + score13, + score14, + score15, + score17)